{
 "metadata": {
  "name": "",
  "signature": "sha256:9e460cbf7c490ed39e5f6b7c780a26c3dbc9a90a744552f843366cc1ca2dcc3f"
 },
 "nbformat": 3,
 "nbformat_minor": 0,
 "worksheets": [
  {
   "cells": [
    {
     "cell_type": "code",
     "collapsed": false,
     "input": [
      "import math\n",
      "from random import randint, randrange"
     ],
     "language": "python",
     "metadata": {},
     "outputs": [],
     "prompt_number": 1
    },
    {
     "cell_type": "code",
     "collapsed": false,
     "input": [
      "def params(s, l):\n",
      "    return s, (s + 3) * l, 5 * (s + 3) * l // 2"
     ],
     "language": "python",
     "metadata": {},
     "outputs": [],
     "prompt_number": 2
    },
    {
     "cell_type": "code",
     "collapsed": false,
     "input": [
      "# Number of records\n",
      "n = 10e+10\n",
      "# Bits required for query\n",
      "l = int(math.log(n))\n",
      "\n",
      "print('l={}'.format(l))\n",
      "\n",
      "# Generate Keygen params\n",
      "rho, etha, gamma = params(60, l)\n",
      "rho, etha, gamma"
     ],
     "language": "python",
     "metadata": {},
     "outputs": [
      {
       "output_type": "stream",
       "stream": "stdout",
       "text": [
        "l=25\n"
       ]
      },
      {
       "metadata": {},
       "output_type": "pyout",
       "prompt_number": 3,
       "text": [
        "(60, 1575, 3937)"
       ]
      }
     ],
     "prompt_number": 3
    },
    {
     "cell_type": "code",
     "collapsed": false,
     "input": [
      "# Random odd number in range\n",
      "p = randrange(2**(etha-1), 2**(etha), 2)"
     ],
     "language": "python",
     "metadata": {},
     "outputs": [],
     "prompt_number": 4
    },
    {
     "cell_type": "code",
     "collapsed": false,
     "input": [
      "# Random odd number in range\n",
      "q = randrange(1, (2**gamma)//p, 2)"
     ],
     "language": "python",
     "metadata": {},
     "outputs": [],
     "prompt_number": 5
    },
    {
     "cell_type": "code",
     "collapsed": false,
     "input": [
      "# Public key\n",
      "x = q * p\n",
      "print('pk size (bytes):', x.bit_length() // 8)"
     ],
     "language": "python",
     "metadata": {},
     "outputs": [
      {
       "output_type": "stream",
       "stream": "stdout",
       "text": [
        "pk size (bytes): 492\n"
       ]
      }
     ],
     "prompt_number": 6
    },
    {
     "cell_type": "code",
     "collapsed": false,
     "input": [
      "# Encrypt-decrypt\n",
      "good = 0\n",
      "for i in range(1000):\n",
      "    # Random number in range\n",
      "    q1 = randint(1, 2**gamma//p)\n",
      "    # Random number in range\n",
      "    r = randint(-2**rho, 2**rho)\n",
      "    \n",
      "    # Encryption\n",
      "    m = 0\n",
      "    c = (m + 2*r + q1*p) % x\n",
      "    # Decryption\n",
      "    m1 = c % p % 2\n",
      "    if m == m1:\n",
      "        good += 1\n",
      "    \n",
      "    # Encryption\n",
      "    m = 1\n",
      "    c = (m + 2*r + q1*p) % x\n",
      "    # Decryption\n",
      "    m1 = c % p % 2\n",
      "    if m == m1:\n",
      "        good += 1\n",
      "\n",
      "print ('Ciphertext size (bytes):', c.bit_length() * l // 8)\n",
      "print ('Successful enc-decs:', good, '/ 2000')\n",
      "assert good == 2000"
     ],
     "language": "python",
     "metadata": {},
     "outputs": [
      {
       "output_type": "stream",
       "stream": "stdout",
       "text": [
        "Ciphertext size (bytes): 12300\n",
        "Successful enc-decs: 2000 / 2000\n"
       ]
      }
     ],
     "prompt_number": 7
    }
   ],
   "metadata": {}
  }
 ]
}