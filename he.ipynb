{
 "metadata": {
  "name": "",
  "signature": "sha256:ce7a91f48fefbb57ffc0fe65a71126ce27211e3944536a12253d6a50d383a625"
 },
 "nbformat": 3,
 "nbformat_minor": 0,
 "worksheets": [
  {
   "cells": [
    {
     "cell_type": "code",
     "collapsed": false,
     "input": [
      "import math\n",
      "from random import randint, randrange\n",
      "\n",
      "from gmpy2 import mpz"
     ],
     "language": "python",
     "metadata": {},
     "outputs": [],
     "prompt_number": 204
    },
    {
     "cell_type": "code",
     "collapsed": false,
     "input": [
      "def params(s, l):\n",
      "    return mpz(s), mpz((s + 3)*l), mpz(5*(s + 3)*l // 2)"
     ],
     "language": "python",
     "metadata": {},
     "outputs": [],
     "prompt_number": 205
    },
    {
     "cell_type": "code",
     "collapsed": false,
     "input": [
      "# Number of records\n",
      "n = 10000000\n",
      "# Bits required for query\n",
      "l = int(math.log(n, 2)) + 1\n",
      "\n",
      "print('l={}'.format(l))\n",
      "\n",
      "# Generate Keygen params\n",
      "# etha - size of sk\n",
      "# gamma - size of pk and ciphertext\n",
      "rho, etha, gamma = params(60, l)\n",
      "rho, etha, gamma"
     ],
     "language": "python",
     "metadata": {},
     "outputs": [
      {
       "output_type": "stream",
       "stream": "stdout",
       "text": [
        "l=24\n"
       ]
      },
      {
       "metadata": {},
       "output_type": "pyout",
       "prompt_number": 206,
       "text": [
        "(mpz(60), mpz(1512), mpz(3780))"
       ]
      }
     ],
     "prompt_number": 206
    },
    {
     "cell_type": "code",
     "collapsed": false,
     "input": [
      "# Random odd number in range\n",
      "p = mpz(randrange(2**(etha-1), 2**(etha), 2))"
     ],
     "language": "python",
     "metadata": {},
     "outputs": [],
     "prompt_number": 207
    },
    {
     "cell_type": "code",
     "collapsed": false,
     "input": [
      "# Random odd number in range\n",
      "q = mpz(randrange(1, (2**gamma)//p, 2))"
     ],
     "language": "python",
     "metadata": {},
     "outputs": [],
     "prompt_number": 208
    },
    {
     "cell_type": "code",
     "collapsed": false,
     "input": [
      "# Public key\n",
      "x = q * p\n",
      "print('pk size (bytes):', x.bit_length() // 8)"
     ],
     "language": "python",
     "metadata": {},
     "outputs": [
      {
       "output_type": "stream",
       "stream": "stdout",
       "text": [
        "pk size (bytes): 472\n"
       ]
      }
     ],
     "prompt_number": 211
    },
    {
     "cell_type": "code",
     "collapsed": false,
     "input": [
      "# Encrypt-decrypt\n",
      "good = 0\n",
      "for i in range(1000):\n",
      "    # Random number in range\n",
      "    q1 = mpz(randint(1, 2**gamma//p))\n",
      "    # Random number in range\n",
      "    r = mpz(randint(-2**rho, 2**rho))\n",
      "    \n",
      "    # Encryption\n",
      "    m = mpz(0)\n",
      "    c1 = (m + 2*r + q1*p) % x\n",
      "    # Decryption\n",
      "    m1 = c1 % p % 2\n",
      "    if m == m1:\n",
      "        good += 1\n",
      "    \n",
      "    # Encryption\n",
      "    m = mpz(1)\n",
      "    c2 = (m + 2*r + q1*p) % x\n",
      "    # Decryption\n",
      "    m2 = c2 % p % 2\n",
      "    if m == m2:\n",
      "        good += 1\n",
      "        \n",
      "    # Homo operation\n",
      "    c3 = (c1 + c2) % x\n",
      "    m3 = c3 % p % 2\n",
      "    if m3 == 1:\n",
      "        good += 1\n",
      "        \n",
      "    # Homo operation\n",
      "    c3 = (c1 * c2) % x\n",
      "    m3 = c3 % p % 2\n",
      "    if m3 == 0:\n",
      "        good += 1\n",
      "\n",
      "print ('Ciphertext size (bytes):', c.bit_length() * l // 8)\n",
      "print ('Successful enc-decs:', good, '/ 4000')\n",
      "assert good == 4000"
     ],
     "language": "python",
     "metadata": {},
     "outputs": [
      {
       "output_type": "stream",
       "stream": "stdout",
       "text": [
        "Ciphertext size (bytes): 11334\n",
        "Successful enc-decs: 4000 / 4000\n"
       ]
      }
     ],
     "prompt_number": 217
    }
   ],
   "metadata": {}
  }
 ]
}